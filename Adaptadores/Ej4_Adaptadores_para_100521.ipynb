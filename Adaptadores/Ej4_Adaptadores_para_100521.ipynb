{
 "cells": [
  {
   "cell_type": "markdown",
   "metadata": {},
   "source": [
    "# Técnicas de adaptación \n",
    "### Ejercicio Adaptación de \"tarea\" para 10-05-21\n",
    "\n",
    "Supóngase querer adaptar una antena látigo de cuarto de onda diseñada para operar a $144MHz$,\n",
    "cuya impedacia es de $20\\Omega − j2.25\\Omega$.\n",
    "Se desea emplear la misma antena a la frecuencia de $f_RF = 110MHz$, donde presenta una impedancia de $Zant = 10\\Omega − j500\\Omega$.\n",
    "<img src=\"Imagenes/eje4.png\" width=\"400\">\n",
    "\n",
    "Se desea que el equipo transmisor, la fuente de corriente, tenga una carga de $Zin = 50Ω + j0Ω @\n",
    "144MHz$.\n",
    "\n",
    "Para que esté adaptada, se recurre así al circuito de adaptación mostrado en la figura compuesto\n",
    "por L y C.\n",
    "\n",
    "La potencia disponible del transmisor es $Pdisp = 10W$"
   ]
  },
  {
   "cell_type": "code",
   "execution_count": null,
   "metadata": {},
   "outputs": [],
   "source": []
  }
 ],
 "metadata": {
  "kernelspec": {
   "display_name": "Python 3",
   "language": "python",
   "name": "python3"
  },
  "language_info": {
   "codemirror_mode": {
    "name": "ipython",
    "version": 3
   },
   "file_extension": ".py",
   "mimetype": "text/x-python",
   "name": "python",
   "nbconvert_exporter": "python",
   "pygments_lexer": "ipython3",
   "version": "3.8.5"
  }
 },
 "nbformat": 4,
 "nbformat_minor": 4
}
