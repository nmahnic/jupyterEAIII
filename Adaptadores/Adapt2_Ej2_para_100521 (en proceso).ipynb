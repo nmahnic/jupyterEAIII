{
 "cells": [
  {
   "cell_type": "markdown",
   "metadata": {},
   "source": [
    "### Ejercicio Adaptación de \"tarea\" para 10-05-21\n",
    "\n",
    "El siguiente circuito corresponde a un adaptador de impedancias realizado con un autotrasformador, cuyo QoL = ∞ a la frecuencia de trabajo, y un capacitor de C1 conectado en paralelo\n",
    "con el primario, cuyas pérdidas QoC = 100.\n",
    "\n",
    "<img src=\"Imagenes/eje2_adap2.png\" width=\"400\">\n",
    "La impedancia interna de la fuente es de $zg_{(100MHz)}=(74 − j7)Ω$ a y la corriente que entrega es\n",
    "$ig_{(100MHz)}= 1µA$.\n",
    "\n",
    "La resistencia de carga es de $RL=1500Ω$.\n",
    "\n",
    "Calcular para máxima transferencia de energía a un $Qc=20$, se busca que $RL′ = rg$.\n",
    "1. C\n",
    "2. L1\n",
    "3. L1a\n",
    "4. Ls\n",
    "5. La relación de vueltas del transformador.\n",
    "6. Tensión en el primario\n",
    "7. Tnesión en el secundario\n",
    "8. $P_{RL}$\n",
    "\n",
    "<img src=\"Imagenes/eje2_2_adap2.png\" width=\"400\">"
   ]
  },
  {
   "cell_type": "code",
   "execution_count": 3,
   "metadata": {},
   "outputs": [
    {
     "name": "stdout",
     "output_type": "stream",
     "text": [
      "rg =  74.6622 Ω\n",
      "cg =  2.0164e-12 F\n"
     ]
    }
   ],
   "source": [
    "import numpy as np\n",
    "# Datos\n",
    "Qc = 20\n",
    "Qo = 100\n",
    "zg = 74-7j  \n",
    "ig  = 1e-6 # A pico\n",
    "fo  =  100e6\n",
    "RL  = 1500\n",
    "\n",
    "wo = 2*np.pi*fo\n",
    "\n",
    "# Calculo la impedancia de la fuente para el modelo paralelo\n",
    "rg = 1/((1/zg).real )\n",
    "cg  = ( (1/zg).imag )/wo \n",
    "print('rg =  {:1.4f} \\u03A9'.format(rg) )\n",
    "print('cg =  {:1.4e} F'.format(cg) )"
   ]
  },
  {
   "cell_type": "code",
   "execution_count": null,
   "metadata": {},
   "outputs": [],
   "source": []
  },
  {
   "cell_type": "code",
   "execution_count": null,
   "metadata": {},
   "outputs": [],
   "source": []
  }
 ],
 "metadata": {
  "kernelspec": {
   "display_name": "Python 3",
   "language": "python",
   "name": "python3"
  },
  "language_info": {
   "codemirror_mode": {
    "name": "ipython",
    "version": 3
   },
   "file_extension": ".py",
   "mimetype": "text/x-python",
   "name": "python",
   "nbconvert_exporter": "python",
   "pygments_lexer": "ipython3",
   "version": "3.8.5"
  }
 },
 "nbformat": 4,
 "nbformat_minor": 4
}
