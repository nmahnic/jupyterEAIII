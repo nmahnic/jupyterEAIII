{
 "cells": [
  {
   "cell_type": "markdown",
   "metadata": {},
   "source": [
    "### Ejercicio Adaptación de \"tarea\" para 10-05-21\n",
    "\n",
    "En la figura se muestra un filtro sintonizado realizado con un inductor y un capacitor. El inductor tiene un $Q_oL(100MHz) = 100$ y el capacitor tiene $ESR = 1 \\Omega$. La fuente tiene $P_disp = 10nW$ a $f = 100MHz$.\n",
    "<img src=\"Imagenes/eje2.png\" width=\"400\">\n",
    "\n",
    "1. Calcular: $L_1$, $C_1$ y $Q_c$ del circuito resultante para adaptar MTEcte la carga y el generador a $100MHz$  mediante conversiones serie-paralelo.\n",
    "2. Verificar usando la carta de Smith\n",
    "3. Calcule la potencia entregada por la fuente, la potencia en la carga y verificar usando simulaciones"
   ]
  },
  {
   "cell_type": "code",
   "execution_count": null,
   "metadata": {},
   "outputs": [],
   "source": []
  }
 ],
 "metadata": {
  "kernelspec": {
   "display_name": "Python 3",
   "language": "python",
   "name": "python3"
  },
  "language_info": {
   "codemirror_mode": {
    "name": "ipython",
    "version": 3
   },
   "file_extension": ".py",
   "mimetype": "text/x-python",
   "name": "python",
   "nbconvert_exporter": "python",
   "pygments_lexer": "ipython3",
   "version": "3.8.5"
  }
 },
 "nbformat": 4,
 "nbformat_minor": 5
}
