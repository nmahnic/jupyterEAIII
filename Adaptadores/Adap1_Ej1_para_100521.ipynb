{
 "cells": [
  {
   "cell_type": "markdown",
   "metadata": {},
   "source": [
    "### Ejercicio Adaptación de \"tarea\" para 10-05-21\n",
    "\n",
    "En la figura se muestra un filtro sintonizado realizado con un inductor y un capacitor que está sintonizado a $f = 10MHz$.\n",
    "<img src=\"Imagenes/eje1.png\" width=\"400\">\n",
    "El inductor tiene un $Q_oL(10MHz) = 100$ y suponga que el capacitor tiene $ESR = 0 \\Omega$.\n",
    "La fuente tiene una $P_{disp} = 200pW$ a $f = 10MHz$.\n",
    "\n",
    "1. Calcular: $L_1$ y $C_1$ para adaptar máxima transferencia de energía a $R_L$ con $Q_c = 20$ y el generador a $10MHz$ (recuerde que para esta condición $R_L = rg$.\n",
    "2. Calcule la impedancia de entrada del adaptador cargado a $10MHz$\n",
    "3. La potencia sobre la carga\n",
    "4. La potencia de entrada al adaptador (la potencia entregada por la fuente al adaptador y carga).\n",
    "5. Verificar utilizando simulaciones."
   ]
  },
  {
   "cell_type": "code",
   "execution_count": 11,
   "metadata": {},
   "outputs": [],
   "source": [
    "import numpy as np\n",
    "\n",
    "# Datos \n",
    "rg = 50\n",
    "f0 = 10e6\n",
    "Pdisp = 200e-12\n",
    "Qc = 20\n",
    "QoL = 100\n",
    "\n",
    "wo = 2*np.pi*f0"
   ]
  },
  {
   "cell_type": "markdown",
   "metadata": {},
   "source": [
    "#### a)\n",
    "<img src=\"Imagenes/eje1a.png\" width=\"400\">"
   ]
  },
  {
   "cell_type": "code",
   "execution_count": 7,
   "metadata": {},
   "outputs": [
    {
     "name": "stdout",
     "output_type": "stream",
     "text": [
      "L1 = 1.59155e-08 Hy\n",
      "C1 = 1.59155e-08 F\n"
     ]
    }
   ],
   "source": [
    "Rl = rg\n",
    "Rext = (Rl*rg)/(Rl+rg)\n",
    "\n",
    "L1 = ((Rext/wo)*((1/Qc)-(1/QoL)))\n",
    "C1 = 1/(wo*wo*L1)\n",
    "\n",
    "print(\"L1 = {:1.5e} Hy\".format(L1))\n",
    "print(\"C1 = {:1.5e} F\".format(C1))"
   ]
  },
  {
   "cell_type": "code",
   "execution_count": 8,
   "metadata": {},
   "outputs": [
    {
     "name": "stdout",
     "output_type": "stream",
     "text": [
      "Rp = 1.0000e+02 Ω\n",
      "Zin = 3.3333e+01 Ω\n"
     ]
    }
   ],
   "source": [
    "XL1 = wo*L1\n",
    "Rp = QoL * XL1\n",
    "\n",
    "Zin = (Rp*Rl)/(Rp+Rl)\n",
    "\n",
    "print(\"Rp = {:1.4e} \\u03A9\".format(Rp))\n",
    "print(\"Zin = {:1.4e} \\u03A9\".format(Zin))"
   ]
  },
  {
   "cell_type": "markdown",
   "metadata": {},
   "source": [
    "#### 3. $P_RL$  \n",
    "\n",
    "$$P_{RL} = P_{disp}\\left(1-\\frac{Q_c}{Q_o}\\right)^2$$"
   ]
  },
  {
   "cell_type": "code",
   "execution_count": 9,
   "metadata": {},
   "outputs": [
    {
     "name": "stdout",
     "output_type": "stream",
     "text": [
      "Ztot = 2.0000e+01 Ω\n",
      "vo = 1.1314e-04 V\n",
      "ig = 5.6569e-06 A\n",
      "\n",
      "PZin = 1.9200e-10 W\n",
      "PZtot = 3.2000e-10 W\n",
      "Prl = 1.2800e-10 W\n"
     ]
    }
   ],
   "source": [
    "Prl = Pdisp*((1-Qc/QoL)**2)\n",
    "\n",
    "Ztot = (rg*Zin)/(rg+Zin)\n",
    "igpico = ((Pdisp*8)/rg)**0.5\n",
    "vopico = igpico * Ztot\n",
    "\n",
    "print(\"Ztot = {:1.4e} \\u03A9\".format(Ztot))\n",
    "print(\"vo = {:1.4e} V\".format(vopico))\n",
    "print(\"ig = {:1.4e} A\\n\".format(igpico))\n",
    "PZin = (vopico**2/Zin)/2\n",
    "print(\"PZin = {:1.4e} W\".format(PZin))\n",
    "\n",
    "PZtot = (vopico**2/Ztot)/2\n",
    "print(\"PZtot = {:1.4e} W\".format(PZtot))\n",
    "print(\"Prl = {:1.4e} W\".format(Prl))"
   ]
  },
  {
   "cell_type": "markdown",
   "metadata": {},
   "source": [
    "La potencia disponible $P_{disp}$ es aquella que puede ser la $P_{RL}$ si las perdidas son 0 o mejor dicho si el $Q_o$ tiene a infinito. \n",
    "A continuación se utiliza la expresión completa para el calculo de potencia sobre la carga para cualquier $Q_o$ considerando que $R_L$ y $r_g$ pueden ser diferentes."
   ]
  },
  {
   "cell_type": "code",
   "execution_count": 10,
   "metadata": {},
   "outputs": [
    {
     "name": "stdout",
     "output_type": "stream",
     "text": [
      "Prl2 = 2.0000e-10 W\n"
     ]
    }
   ],
   "source": [
    "Qo = 100000000000\n",
    "Prl2 = (igpico**2/((Qo/(Qo-Qc))**2))*((Rl*(rg**2))/(Rl+rg)**2)/2\n",
    "print(\"Prl2 = {:1.4e} W\".format(Prl2))"
   ]
  },
  {
   "cell_type": "markdown",
   "metadata": {},
   "source": [
    "La potencia entregada por la fuente es el doble que la $P_{disp}$ si la carga se encuentra completamente adaptada"
   ]
  },
  {
   "cell_type": "code",
   "execution_count": null,
   "metadata": {},
   "outputs": [],
   "source": []
  }
 ],
 "metadata": {
  "kernelspec": {
   "display_name": "Python 3",
   "language": "python",
   "name": "python3"
  },
  "language_info": {
   "codemirror_mode": {
    "name": "ipython",
    "version": 3
   },
   "file_extension": ".py",
   "mimetype": "text/x-python",
   "name": "python",
   "nbconvert_exporter": "python",
   "pygments_lexer": "ipython3",
   "version": "3.8.5"
  }
 },
 "nbformat": 4,
 "nbformat_minor": 5
}
