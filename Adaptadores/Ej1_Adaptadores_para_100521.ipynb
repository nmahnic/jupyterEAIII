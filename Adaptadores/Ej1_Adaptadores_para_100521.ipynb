{
 "cells": [
  {
   "cell_type": "markdown",
   "id": "803e5732",
   "metadata": {},
   "source": [
    "# Técnicas de adaptación \n",
    "### Ejercicio Adaptación 03-05-21\n",
    "\n",
    "En la figura se muestra un filtro sintonizado realizado con un inductor y un capacitor que está sintonizado a $f = 10MHz$.\n",
    "<img src=\"Imagenes/eje1.png\" width=\"400\">\n",
    "El inductor tiene un $Q_oL(10MHz) = 100$ y suponga que el capacitor tiene $ESR ~ 0 \\Omega$.\n",
    "La fuente tiene una $P_disp = 200pW$ a $f = 10MHz$.\n",
    "\n",
    "1. Calcular: $L_1$ y $C_1$ para adaptar máxima transferencia de energía a $R_L$ con $Q_c = 20$ y el generador a $10MHz$ (recuerde que para esta condición $R_L = rg$.\n",
    "2. Calcule la impedancia de entrada del adaptador cargado a $10MHz$\n",
    "3. La potencia sobre la carga\n",
    "4. La potencia de entrada al adaptador (la potencia entregada por la fuente al adaptador y carga).\n",
    "5. Verificar utilizando simulaciones."
   ]
  },
  {
   "cell_type": "code",
   "execution_count": null,
   "id": "dd5f96d5",
   "metadata": {},
   "outputs": [],
   "source": []
  }
 ],
 "metadata": {
  "kernelspec": {
   "display_name": "Python 3",
   "language": "python",
   "name": "python3"
  },
  "language_info": {
   "codemirror_mode": {
    "name": "ipython",
    "version": 3
   },
   "file_extension": ".py",
   "mimetype": "text/x-python",
   "name": "python",
   "nbconvert_exporter": "python",
   "pygments_lexer": "ipython3",
   "version": "3.8.6"
  }
 },
 "nbformat": 4,
 "nbformat_minor": 5
}
