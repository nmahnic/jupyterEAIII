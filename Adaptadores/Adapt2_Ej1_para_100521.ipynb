{
 "cells": [
  {
   "cell_type": "markdown",
   "metadata": {},
   "source": [
    "### Ejercicio Adaptación de \"tarea\" para 10-05-21\n",
    "\n",
    "<img src=\"Imagenes/eje1_adap2.png\" width=\"400\">\n",
    "El siguiente circuito corresponde a un adaptador de impedancias realizado con un trasformador, cuyo  $Q_{oL} = \\infty$  , y un capacitor de $ C_1$ conectado en paralelo con el primario, cuyas pérdidas se suponen despreciables. \n",
    "\n",
    "La impedancia interna de la fuente es de $$z_g= (200-j10) \\Omega $$ a $200MHz$ y su potencia disponible es de $P_{disp} = 10 nW$. \n",
    "\n",
    "La resistencia de carga es de $R_L = 1000 \\Omega$.\n",
    "\n",
    "\n",
    "Nota: en SPICE la sentencia ``k1 L1 L2 1'' indica que el transformador tiene $K = 1$ (acople máximo).\n",
    "\n",
    "\n",
    "    1. Para $Q_c= 20$ a $200MHz$: $C$, $Lp$, $Ls$ y la relación de vueltas del transformador.\n",
    "    2. Tensión en el primario y secundario y potencia sobre $R_L$.   \n",
    "    3. Verificar utilizando simuladores."
   ]
  },
  {
   "cell_type": "code",
   "execution_count": 21,
   "metadata": {},
   "outputs": [
    {
     "name": "stdout",
     "output_type": "stream",
     "text": [
      "cg = 7.9577e-11 F\n",
      "rg = 2.0000e+02 Ω\n"
     ]
    }
   ],
   "source": [
    "import numpy as np\n",
    "#import engfmt \n",
    "\n",
    "# Datos\n",
    "Pdisp =  10e-9\n",
    "Qo = np.inf\n",
    "zg = 200-10j  \n",
    "fo  =  200e6\n",
    "RL  = 1000\n",
    "Qc = 20\n",
    "\n",
    "wo = 2*np.pi*fo\n",
    "\n",
    "rg =  zg.real\n",
    "cg = abs(1/(zg.imag*wo))\n",
    "print('cg = {:1.4e} F'.format(cg) )\n",
    "print('rg = {:1.4e} \\u03A9'.format(rg) )"
   ]
  },
  {
   "cell_type": "code",
   "execution_count": 27,
   "metadata": {},
   "outputs": [
    {
     "name": "stdout",
     "output_type": "stream",
     "text": [
      "Qmgen = 0.0500\n",
      "rgp = 200.5 ohms\n",
      "cgp = 1.98448e-13 F\n"
     ]
    }
   ],
   "source": [
    "# Convesión de serie a paralelo del generador\n",
    "# Qmg = wo*cg/rg\n",
    "Qmg  = 1/(wo*cg*rg)\n",
    "\n",
    "rgp  = rg*(1+Qmg**2)\n",
    "cgp  = cg/(1+1/Qmg**2)\n",
    "print('Qmgen = {:1.4f}'.format(Qmg) )\n",
    "print('rgp = {:1.1f} ohms'.format(rgp) )\n",
    "print('cgp = {:1.5e} F'.format(cgp) )"
   ]
  },
  {
   "cell_type": "code",
   "execution_count": 28,
   "metadata": {},
   "outputs": [
    {
     "name": "stdout",
     "output_type": "stream",
     "text": [
      "k = 2.23328 \n"
     ]
    }
   ],
   "source": [
    "RLpri = rgp\n",
    "RLsec = RL\n",
    "# La relación de espiras del transformador  (Sec/Pri)\n",
    "k  = (RLsec/RLpri)**0.5\n",
    "\n",
    "print('k = {:2.5f} '.format(k) ) "
   ]
  },
  {
   "cell_type": "code",
   "execution_count": 29,
   "metadata": {},
   "outputs": [
    {
     "name": "stdout",
     "output_type": "stream",
     "text": [
      "Lpri = 3.9888e-09 Hy\n",
      "Lsec = 1.9894e-08 Hy\n",
      "C1 = 1.5856e-10 F\n"
     ]
    }
   ],
   "source": [
    "# Calculo la resistencia externa a las perdidas\n",
    "Rext  = rgp * RLpri / (rgp + RLpri )\n",
    "\n",
    "# La inductancia del primario entonces\n",
    "Lpri =  (1/Qc - 1/Qo)  * Rext / wo\n",
    "# La inductancia del secundario (k= 1)\n",
    "Lsec  = Lpri * k**2\n",
    "\n",
    "\n",
    "# La capacidad que sintoniza con Lp\n",
    "Cp  =  1/ Lpri / (wo)**2  \n",
    "\n",
    "# El valor de C1 ya que esta en paralelo con la capacidad que presenta la impedancia de la fuente\n",
    "C1 = (Cp - cgp)\n",
    "\n",
    "print('Lpri = {:2.4e} Hy'.format(Lpri) ) \n",
    "print('Lsec = {:2.4e} Hy'.format(Lsec) ) \n",
    "print('C1 = {:2.4e} F'.format(C1) ) "
   ]
  },
  {
   "cell_type": "code",
   "execution_count": 33,
   "metadata": {},
   "outputs": [
    {
     "name": "stdout",
     "output_type": "stream",
     "text": [
      "igpico =  1.9975e-05 A\n"
     ]
    }
   ],
   "source": [
    "# Calculo de la fuente de corriente\n",
    "igpico  = (Pdisp *8 / rgp )**0.5  # PICO\n",
    "print('igpico =  {:1.4e} A'.format(igpico) )"
   ]
  },
  {
   "cell_type": "markdown",
   "metadata": {},
   "source": [
    "<img src=\"Imagenes/eje1_adap2_sim1.png\">"
   ]
  },
  {
   "cell_type": "code",
   "execution_count": 34,
   "metadata": {},
   "outputs": [
    {
     "name": "stdout",
     "output_type": "stream",
     "text": [
      "b1) vs = 4.47e-03 V\n",
      "b2) vp = 2.00e-03 V\n",
      "b3) PRL= 1.00e-08 W\n"
     ]
    }
   ],
   "source": [
    "# La potencia sobre la carga se calcula como:\n",
    "PRL = Pdisp * (1 - Qc/Qo)**2\n",
    "\n",
    "# La tensión sobre RL (secundario), :\n",
    "vs  = (PRL*2*RL)**0.5\n",
    "\n",
    "# La tensión en los bornes del primario \n",
    "vp = vs/k\n",
    "\n",
    "print('b1) vs = {:2.2e} V'.format(vs) ) \n",
    "print('b2) vp = {:2.2e} V'.format(vp) ) \n",
    "print('b3) PRL= {:2.2e} W'.format(PRL) )"
   ]
  }
 ],
 "metadata": {
  "kernelspec": {
   "display_name": "Python 3",
   "language": "python",
   "name": "python3"
  },
  "language_info": {
   "codemirror_mode": {
    "name": "ipython",
    "version": 3
   },
   "file_extension": ".py",
   "mimetype": "text/x-python",
   "name": "python",
   "nbconvert_exporter": "python",
   "pygments_lexer": "ipython3",
   "version": "3.8.5"
  }
 },
 "nbformat": 4,
 "nbformat_minor": 4
}
