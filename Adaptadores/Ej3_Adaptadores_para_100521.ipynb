{
 "cells": [
  {
   "cell_type": "markdown",
   "metadata": {},
   "source": [
    "# Técnicas de adaptación \n",
    "### Ejercicio Adaptación de \"tarea\" para 10-05-21\n",
    "\n",
    "El circuito amplificador transistorizado, el cual corresponde a la etapa de salida. A frecuencia $fo = 1MHz$, el transistor presenta una impedancia de salida $Z_out = 2500\\Omega - j8000\\Omega$ y una corriente de salida $i_o = 200\\mu A$. La resistencia de carga es de $R_L = 100\\Omega$. \n",
    "<img src=\"Imagenes/eje3.png\" width=\"400\">\n",
    "\n",
    "Suponiendo que el capacitor $C_1$ y el inductor $L_1$ tiene pérdidas despreciables.\n",
    "Calcular para máxima transferencia de energía hacia la carga:\n",
    "1. $L_1$\n",
    "2. $C_1$\n",
    "3. $P_RL$\n",
    "El inductor $L_1$ disponible para el valor necesario presenta un factor de merito de $Q_o = 50$ a la frecuencia de trabajo.\n",
    "4. El nuevo valor de $L_1$\n",
    "5. $C_1$ que sintoniza a $L_1$, tenga  en cuenta la capacidad la salida del transistor.\n",
    "6. $Z_in$ (la que presenta a la fuente de corriente, incluyendo la capacidad de la salida del transistor, empleando los valores hallados en los puntos anteriores).\n",
    "7. $P_RL$\n",
    "8. Potencia entregada por la fuente."
   ]
  },
  {
   "cell_type": "code",
   "execution_count": null,
   "metadata": {},
   "outputs": [],
   "source": []
  }
 ],
 "metadata": {
  "kernelspec": {
   "display_name": "Python 3",
   "language": "python",
   "name": "python3"
  },
  "language_info": {
   "codemirror_mode": {
    "name": "ipython",
    "version": 3
   },
   "file_extension": ".py",
   "mimetype": "text/x-python",
   "name": "python",
   "nbconvert_exporter": "python",
   "pygments_lexer": "ipython3",
   "version": "3.8.5"
  }
 },
 "nbformat": 4,
 "nbformat_minor": 5
}
