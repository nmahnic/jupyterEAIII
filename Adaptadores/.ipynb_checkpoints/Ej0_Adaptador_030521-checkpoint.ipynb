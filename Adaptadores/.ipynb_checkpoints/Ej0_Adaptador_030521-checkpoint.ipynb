{
 "cells": [
  {
   "cell_type": "markdown",
   "id": "45697815",
   "metadata": {},
   "source": [
    "# Técnicas de adaptación \n",
    "### Ejercicio Adaptación 03-05-21\n",
    "\n",
    "En la figura se muestra un filtro sintonizado realizado con un inductor y un capacitor que está sintonizado a $f = 10MHz$.\n",
    "Suponga que los elementos reactivos no tiene perdidas ($Q_0 = \\infty$), la fuente tiene una $P_disp = 100pW$ a $f = 10MHz$.\n",
    "\n",
    "Calcular:\n",
    "1. $R_L$\n",
    "2. Ancho de Banda $B_W$?\n",
    "3. $L_1$\n",
    "4. $C_1$ \n",
    "5. Corriente de la fuente $i_g$\n",
    "6. Potencia sobre la carga $P_RL$  \n",
    "\n",
    "<img src=\"Imagenes/eje1.png\" width=\"400\">"
   ]
  },
  {
   "cell_type": "code",
   "execution_count": 1,
   "id": "68690547",
   "metadata": {},
   "outputs": [],
   "source": [
    "import numpy as np\n",
    "\n",
    "# Datos \n",
    "rg = 50\n",
    "f0 = 10e6\n",
    "Pdisp = 100\n",
    "Qc = 20\n",
    "\n",
    "wo = 2*np.pi*f0"
   ]
  },
  {
   "cell_type": "markdown",
   "id": "3aed70b8",
   "metadata": {},
   "source": [
    "#### 1. $R_L$\n",
    "\n",
    "$R_L$ debe ser igual a la $r_g$ debido a que quiero asegurar la máxima transferencia de potencia sobre la carga. A su vez, dado que las perdidas son despreciable, nos encontraremos en el caso en el que toda la potencia disponible se aplica sobre la carga."
   ]
  },
  {
   "cell_type": "code",
   "execution_count": 2,
   "id": "16b0caa2",
   "metadata": {},
   "outputs": [
    {
     "name": "stdout",
     "output_type": "stream",
     "text": [
      "RL = 50.00 Ω\n"
     ]
    }
   ],
   "source": [
    "Rl = rg\n",
    "\n",
    "print(\"RL = {:4.2f} \\u03A9\".format(abs(Rl)))"
   ]
  },
  {
   "cell_type": "markdown",
   "id": "8789f42f",
   "metadata": {},
   "source": [
    "#### 2. $B_W$\n",
    "\n",
    "$B_W$ se toma como la banda donde la transferencia sea mayor a los $3dB$ "
   ]
  },
  {
   "cell_type": "code",
   "execution_count": 3,
   "id": "b8c9aec6",
   "metadata": {},
   "outputs": [
    {
     "name": "stdout",
     "output_type": "stream",
     "text": [
      "Qc = 5.00e+05 MHz\n"
     ]
    }
   ],
   "source": [
    "Bw = f0/Qc\n",
    "\n",
    "print(\"Qc = {:1.2e} MHz\".format(abs(Bw)))"
   ]
  },
  {
   "cell_type": "markdown",
   "id": "bf59436e",
   "metadata": {},
   "source": [
    "#### 3. $L_1$"
   ]
  },
  {
   "cell_type": "code",
   "execution_count": 4,
   "id": "e59d4aea",
   "metadata": {},
   "outputs": [
    {
     "name": "stdout",
     "output_type": "stream",
     "text": [
      "L1 = 1.9894e-08 Hy\n"
     ]
    }
   ],
   "source": [
    "Rext = (Rl*rg)/(Rl+rg)\n",
    "\n",
    "L1 = ((Rext)/(wo*Qc))\n",
    "\n",
    "print(\"L1 = {:1.4e} Hy\".format(L1))"
   ]
  },
  {
   "cell_type": "markdown",
   "id": "200eb54e",
   "metadata": {},
   "source": [
    "#### 4. $C_1$"
   ]
  },
  {
   "cell_type": "code",
   "execution_count": 5,
   "id": "aa98cd6c",
   "metadata": {},
   "outputs": [
    {
     "name": "stdout",
     "output_type": "stream",
     "text": [
      "C1 = 1.2732e-08 F\n"
     ]
    }
   ],
   "source": [
    "C1 = 1/(wo*wo*L1)\n",
    "\n",
    "print(\"C1 = {:1.4e} F\".format(C1))"
   ]
  },
  {
   "cell_type": "markdown",
   "id": "27f165c6",
   "metadata": {},
   "source": [
    "#### 5. $i_g$"
   ]
  },
  {
   "cell_type": "code",
   "execution_count": null,
   "id": "67a76f55",
   "metadata": {},
   "outputs": [],
   "source": []
  },
  {
   "cell_type": "markdown",
   "id": "f9ecbdb9",
   "metadata": {},
   "source": [
    "#### 6. $P_RL$  "
   ]
  },
  {
   "cell_type": "code",
   "execution_count": null,
   "id": "a81053f0",
   "metadata": {},
   "outputs": [],
   "source": []
  }
 ],
 "metadata": {
  "kernelspec": {
   "display_name": "Python 3",
   "language": "python",
   "name": "python3"
  },
  "language_info": {
   "codemirror_mode": {
    "name": "ipython",
    "version": 3
   },
   "file_extension": ".py",
   "mimetype": "text/x-python",
   "name": "python",
   "nbconvert_exporter": "python",
   "pygments_lexer": "ipython3",
   "version": "3.8.6"
  }
 },
 "nbformat": 4,
 "nbformat_minor": 5
}
