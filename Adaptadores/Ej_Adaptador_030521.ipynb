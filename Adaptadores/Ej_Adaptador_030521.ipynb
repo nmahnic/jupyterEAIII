{
 "cells": [
  {
   "cell_type": "markdown",
   "id": "45697815",
   "metadata": {},
   "source": [
    "# Técnicas de adaptación \n",
    "### Ejercicio Adaptación 03-05-21\n",
    "\n",
    "En la figura se muestra un filtro sintonizado realizado con un inductor y un capacitor que está sintonizado a $f = 10MHz$.\n",
    "Suponga que los elementos reactivos no tiene perdidas ($Q_0 = \\infty$), la fuente tiene una $P_disp = 100pW$ a $f = 10MHz$.\n",
    "\n",
    "Calcular:\n",
    "1. $R_L$\n",
    "2. Ancho de Banda $B_W$?\n",
    "3. $L_1$\n",
    "4. $C_1$ \n",
    "5. Corriente de la fuente $i_g$\n",
    "6. Potencia sobre la carga $P_RL$  \n",
    "\n",
    "<img src=\"Imagenes/eje1.png\" width=\"400\">"
   ]
  },
  {
   "cell_type": "code",
   "execution_count": 35,
   "id": "68690547",
   "metadata": {},
   "outputs": [],
   "source": [
    "import numpy as np\n",
    "\n",
    "# Datos \n",
    "rg = 50\n",
    "f0 = 10e6\n",
    "Pdisp = 100e-12\n",
    "Qc = 20\n",
    "Qo = np.inf\n",
    "\n",
    "wo = 2*np.pi*f0"
   ]
  },
  {
   "cell_type": "markdown",
   "id": "3aed70b8",
   "metadata": {},
   "source": [
    "#### 1. $R_L$\n",
    "\n",
    "$R_L$ debe ser igual a la $r_g$ debido a que quiero asegurar la máxima transferencia de potencia sobre la carga. A su vez, dado que las perdidas son despreciable, nos encontraremos en el caso en el que toda la potencia disponible se aplica sobre la carga."
   ]
  },
  {
   "cell_type": "code",
   "execution_count": 36,
   "id": "16b0caa2",
   "metadata": {},
   "outputs": [
    {
     "name": "stdout",
     "output_type": "stream",
     "text": [
      "RL = 50.00 Ω\n"
     ]
    }
   ],
   "source": [
    "Rl = rg\n",
    "\n",
    "print(\"RL = {:4.2f} \\u03A9\".format(abs(Rl)))"
   ]
  },
  {
   "cell_type": "markdown",
   "id": "8789f42f",
   "metadata": {},
   "source": [
    "#### 2. $B_W$\n",
    "\n",
    "$B_W$ se toma como la banda donde la transferencia sea mayor a los $3dB$ "
   ]
  },
  {
   "cell_type": "code",
   "execution_count": 37,
   "id": "b8c9aec6",
   "metadata": {},
   "outputs": [
    {
     "name": "stdout",
     "output_type": "stream",
     "text": [
      "Qc = 5.00e+05 MHz\n"
     ]
    }
   ],
   "source": [
    "Bw = f0/Qc\n",
    "\n",
    "print(\"Qc = {:1.2e} MHz\".format(abs(Bw)))"
   ]
  },
  {
   "cell_type": "markdown",
   "id": "bf59436e",
   "metadata": {},
   "source": [
    "#### 3. $L_1$"
   ]
  },
  {
   "cell_type": "code",
   "execution_count": 38,
   "id": "e59d4aea",
   "metadata": {},
   "outputs": [
    {
     "name": "stdout",
     "output_type": "stream",
     "text": [
      "L1 = 1.9894e-08 Hy\n"
     ]
    }
   ],
   "source": [
    "Rext = (Rl*rg)/(Rl+rg)\n",
    "\n",
    "L1 = ((Rext)/(wo*Qc))\n",
    "\n",
    "print(\"L1 = {:1.4e} Hy\".format(L1))"
   ]
  },
  {
   "cell_type": "markdown",
   "id": "200eb54e",
   "metadata": {},
   "source": [
    "#### 4. $C_1$"
   ]
  },
  {
   "cell_type": "code",
   "execution_count": 39,
   "id": "aa98cd6c",
   "metadata": {},
   "outputs": [
    {
     "name": "stdout",
     "output_type": "stream",
     "text": [
      "C1 = 1.2732e-08 F\n"
     ]
    }
   ],
   "source": [
    "C1 = 1/(wo*wo*L1)\n",
    "\n",
    "print(\"C1 = {:1.4e} F\".format(C1))"
   ]
  },
  {
   "cell_type": "markdown",
   "id": "27f165c6",
   "metadata": {},
   "source": [
    "#### 5. $i_g$\n",
    "\n",
    "$$P_{disp} = \\frac{i_g^2 r_g}{8}$$\n",
    "$$i_g = \\sqrt{\\frac{P_{disp} 8}{r_g}}$$"
   ]
  },
  {
   "cell_type": "code",
   "execution_count": 40,
   "id": "0780978d",
   "metadata": {},
   "outputs": [
    {
     "name": "stdout",
     "output_type": "stream",
     "text": [
      "ig = 4.0000e-06 A\n"
     ]
    }
   ],
   "source": [
    "ig = ((Pdisp*8)/(rg))**0.5 \n",
    "\n",
    "print(\"ig = {:1.4e} A\".format(ig))"
   ]
  },
  {
   "cell_type": "markdown",
   "id": "f9ecbdb9",
   "metadata": {},
   "source": [
    "#### 6. $P_RL$  \n",
    "\n",
    "$$P_{RL} = P_{disp}\\left(1-\\frac{Q_c}{Q_o}\\right)^2$$"
   ]
  },
  {
   "cell_type": "code",
   "execution_count": 41,
   "id": "a81053f0",
   "metadata": {},
   "outputs": [
    {
     "name": "stdout",
     "output_type": "stream",
     "text": [
      "Prl = 1.0000e-10 W\n"
     ]
    }
   ],
   "source": [
    "Prl = Pdisp*((1-Qc/Qo)**2)\n",
    "\n",
    "print(\"Prl = {:1.4e} W\".format(Prl))"
   ]
  },
  {
   "cell_type": "code",
   "execution_count": null,
   "id": "59240cd8",
   "metadata": {},
   "outputs": [],
   "source": []
  }
 ],
 "metadata": {
  "kernelspec": {
   "display_name": "Python 3",
   "language": "python",
   "name": "python3"
  },
  "language_info": {
   "codemirror_mode": {
    "name": "ipython",
    "version": 3
   },
   "file_extension": ".py",
   "mimetype": "text/x-python",
   "name": "python",
   "nbconvert_exporter": "python",
   "pygments_lexer": "ipython3",
   "version": "3.8.6"
  }
 },
 "nbformat": 4,
 "nbformat_minor": 5
}
